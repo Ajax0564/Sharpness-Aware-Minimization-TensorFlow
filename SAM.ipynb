{
  "nbformat": 4,
  "nbformat_minor": 0,
  "metadata": {
    "colab": {
      "name": "SAM.ipynb",
      "provenance": [],
      "collapsed_sections": [],
      "toc_visible": true,
      "authorship_tag": "ABX9TyNZ/tUye6CCwCyM7wdz9SiI",
      "include_colab_link": true
    },
    "kernelspec": {
      "name": "python3",
      "display_name": "Python 3"
    },
    "accelerator": "TPU"
  },
  "cells": [
    {
      "cell_type": "markdown",
      "metadata": {
        "id": "view-in-github",
        "colab_type": "text"
      },
      "source": [
        "<a href=\"https://colab.research.google.com/github/sayakpaul/Sharpness-Aware-Minimization-TensorFlow/blob/main/SAM.ipynb\" target=\"_parent\"><img src=\"https://colab.research.google.com/assets/colab-badge.svg\" alt=\"Open In Colab\"/></a>"
      ]
    },
    {
      "cell_type": "markdown",
      "metadata": {
        "id": "zTJnB1ksZqPL"
      },
      "source": [
        "This notebook how to minimally implement **sharpness-aware minimization** in TensorFlow with the CIFAR10 dataset. Sharpness-aware minimization (SAM) was proposed in the paper - [Sharpness-Aware Minimization for Efficiently Improving Generalization](https://openreview.net/pdf?id=6Tm1mposlrM)<sup>*</sup>. Some notable differences of this implementation: \n",
        "* ResNet20 (attributed to [this repository](https://github.com/GoogleCloudPlatform/keras-idiomatic-programmer/blob/master/zoo/resnet/resnet_cifar10.py)) is used as opposed to PyramidNet and WideResNet. \n",
        "* ShakeDrop regularization has not been used.\n",
        "* Two simple augmentation transformations (random crop and random brightness) have been used as opposed to Cutout, AutoAugment. \n",
        "* Adam has been used as the optimizer with the default arguments as provided by TensorFlow. Table 1 of the original paper suggests to use SGD with different configurations. \n",
        "\n",
        "I referred to the following resources for this study - \n",
        "* [Original Paper](https://openreview.net/pdf?id=6Tm1mposlrM) \n",
        "* [davda54](https://github.com/davda54)'s [PyTorch implementation](https://github.com/davda54/sam)\n",
        "\n",
        "*<small>arXiv version of the paper can be found [here](https://arxiv.org/abs/2010.01412).</small>"
      ]
    },
    {
      "cell_type": "markdown",
      "metadata": {
        "id": "yCS-CVSi1K0i"
      },
      "source": [
        "## Initial Setup"
      ]
    },
    {
      "cell_type": "code",
      "metadata": {
        "id": "6TODJ5eNx_hv"
      },
      "source": [
        "!git clone https://github.com/sayakpaul/Sharpness-Aware-Minimization-TensorFlow"
      ],
      "execution_count": null,
      "outputs": []
    },
    {
      "cell_type": "code",
      "metadata": {
        "id": "ziu8bWZtyHtH"
      },
      "source": [
        "import sys\n",
        "sys.path.append(\"Sharpness-Aware-Minimization-TensorFlow\")"
      ],
      "execution_count": null,
      "outputs": []
    },
    {
      "cell_type": "code",
      "metadata": {
        "colab": {
          "base_uri": "https://localhost:8080/"
        },
        "id": "Xgvhm6H4YKBI",
        "outputId": "4d7d19d0-838e-429c-c549-d1be93e088f0"
      },
      "source": [
        "import tensorflow as tf\n",
        "tf.random.set_seed(42)\n",
        "print(tf.__version__)"
      ],
      "execution_count": 1,
      "outputs": [
        {
          "output_type": "stream",
          "text": [
            "2.4.1\n"
          ],
          "name": "stdout"
        }
      ]
    },
    {
      "cell_type": "code",
      "metadata": {
        "colab": {
          "base_uri": "https://localhost:8080/"
        },
        "id": "yV7Gq8KvZkWX",
        "outputId": "04606822-c4fb-4f9c-9961-8e5cf0b936a9"
      },
      "source": [
        "try: # detect TPUs\n",
        "    tpu = None\n",
        "    tpu = tf.distribute.cluster_resolver.TPUClusterResolver() # TPU detection\n",
        "    tf.config.experimental_connect_to_cluster(tpu)\n",
        "    tf.tpu.experimental.initialize_tpu_system(tpu)\n",
        "    strategy = tf.distribute.experimental.TPUStrategy(tpu)\n",
        "except ValueError: # detect GPUs\n",
        "    strategy = tf.distribute.MirroredStrategy() # for GPU or multi-GPU machines\n",
        "  \n",
        "print(\"Number of accelerators: \", strategy.num_replicas_in_sync)"
      ],
      "execution_count": 2,
      "outputs": [
        {
          "output_type": "stream",
          "text": [
            "INFO:tensorflow:Initializing the TPU system: grpc://10.10.171.202:8470\n"
          ],
          "name": "stdout"
        },
        {
          "output_type": "stream",
          "text": [
            "INFO:tensorflow:Initializing the TPU system: grpc://10.10.171.202:8470\n"
          ],
          "name": "stderr"
        },
        {
          "output_type": "stream",
          "text": [
            "INFO:tensorflow:Clearing out eager caches\n"
          ],
          "name": "stdout"
        },
        {
          "output_type": "stream",
          "text": [
            "INFO:tensorflow:Clearing out eager caches\n"
          ],
          "name": "stderr"
        },
        {
          "output_type": "stream",
          "text": [
            "INFO:tensorflow:Finished initializing TPU system.\n"
          ],
          "name": "stdout"
        },
        {
          "output_type": "stream",
          "text": [
            "INFO:tensorflow:Finished initializing TPU system.\n",
            "WARNING:absl:`tf.distribute.experimental.TPUStrategy` is deprecated, please use  the non experimental symbol `tf.distribute.TPUStrategy` instead.\n"
          ],
          "name": "stderr"
        },
        {
          "output_type": "stream",
          "text": [
            "INFO:tensorflow:Found TPU system:\n"
          ],
          "name": "stdout"
        },
        {
          "output_type": "stream",
          "text": [
            "INFO:tensorflow:Found TPU system:\n"
          ],
          "name": "stderr"
        },
        {
          "output_type": "stream",
          "text": [
            "INFO:tensorflow:*** Num TPU Cores: 8\n"
          ],
          "name": "stdout"
        },
        {
          "output_type": "stream",
          "text": [
            "INFO:tensorflow:*** Num TPU Cores: 8\n"
          ],
          "name": "stderr"
        },
        {
          "output_type": "stream",
          "text": [
            "INFO:tensorflow:*** Num TPU Workers: 1\n"
          ],
          "name": "stdout"
        },
        {
          "output_type": "stream",
          "text": [
            "INFO:tensorflow:*** Num TPU Workers: 1\n"
          ],
          "name": "stderr"
        },
        {
          "output_type": "stream",
          "text": [
            "INFO:tensorflow:*** Num TPU Cores Per Worker: 8\n"
          ],
          "name": "stdout"
        },
        {
          "output_type": "stream",
          "text": [
            "INFO:tensorflow:*** Num TPU Cores Per Worker: 8\n"
          ],
          "name": "stderr"
        },
        {
          "output_type": "stream",
          "text": [
            "INFO:tensorflow:*** Available Device: _DeviceAttributes(/job:localhost/replica:0/task:0/device:CPU:0, CPU, 0, 0)\n"
          ],
          "name": "stdout"
        },
        {
          "output_type": "stream",
          "text": [
            "INFO:tensorflow:*** Available Device: _DeviceAttributes(/job:localhost/replica:0/task:0/device:CPU:0, CPU, 0, 0)\n"
          ],
          "name": "stderr"
        },
        {
          "output_type": "stream",
          "text": [
            "INFO:tensorflow:*** Available Device: _DeviceAttributes(/job:worker/replica:0/task:0/device:CPU:0, CPU, 0, 0)\n"
          ],
          "name": "stdout"
        },
        {
          "output_type": "stream",
          "text": [
            "INFO:tensorflow:*** Available Device: _DeviceAttributes(/job:worker/replica:0/task:0/device:CPU:0, CPU, 0, 0)\n"
          ],
          "name": "stderr"
        },
        {
          "output_type": "stream",
          "text": [
            "INFO:tensorflow:*** Available Device: _DeviceAttributes(/job:worker/replica:0/task:0/device:TPU:0, TPU, 0, 0)\n"
          ],
          "name": "stdout"
        },
        {
          "output_type": "stream",
          "text": [
            "INFO:tensorflow:*** Available Device: _DeviceAttributes(/job:worker/replica:0/task:0/device:TPU:0, TPU, 0, 0)\n"
          ],
          "name": "stderr"
        },
        {
          "output_type": "stream",
          "text": [
            "INFO:tensorflow:*** Available Device: _DeviceAttributes(/job:worker/replica:0/task:0/device:TPU:1, TPU, 0, 0)\n"
          ],
          "name": "stdout"
        },
        {
          "output_type": "stream",
          "text": [
            "INFO:tensorflow:*** Available Device: _DeviceAttributes(/job:worker/replica:0/task:0/device:TPU:1, TPU, 0, 0)\n"
          ],
          "name": "stderr"
        },
        {
          "output_type": "stream",
          "text": [
            "INFO:tensorflow:*** Available Device: _DeviceAttributes(/job:worker/replica:0/task:0/device:TPU:2, TPU, 0, 0)\n"
          ],
          "name": "stdout"
        },
        {
          "output_type": "stream",
          "text": [
            "INFO:tensorflow:*** Available Device: _DeviceAttributes(/job:worker/replica:0/task:0/device:TPU:2, TPU, 0, 0)\n"
          ],
          "name": "stderr"
        },
        {
          "output_type": "stream",
          "text": [
            "INFO:tensorflow:*** Available Device: _DeviceAttributes(/job:worker/replica:0/task:0/device:TPU:3, TPU, 0, 0)\n"
          ],
          "name": "stdout"
        },
        {
          "output_type": "stream",
          "text": [
            "INFO:tensorflow:*** Available Device: _DeviceAttributes(/job:worker/replica:0/task:0/device:TPU:3, TPU, 0, 0)\n"
          ],
          "name": "stderr"
        },
        {
          "output_type": "stream",
          "text": [
            "INFO:tensorflow:*** Available Device: _DeviceAttributes(/job:worker/replica:0/task:0/device:TPU:4, TPU, 0, 0)\n"
          ],
          "name": "stdout"
        },
        {
          "output_type": "stream",
          "text": [
            "INFO:tensorflow:*** Available Device: _DeviceAttributes(/job:worker/replica:0/task:0/device:TPU:4, TPU, 0, 0)\n"
          ],
          "name": "stderr"
        },
        {
          "output_type": "stream",
          "text": [
            "INFO:tensorflow:*** Available Device: _DeviceAttributes(/job:worker/replica:0/task:0/device:TPU:5, TPU, 0, 0)\n"
          ],
          "name": "stdout"
        },
        {
          "output_type": "stream",
          "text": [
            "INFO:tensorflow:*** Available Device: _DeviceAttributes(/job:worker/replica:0/task:0/device:TPU:5, TPU, 0, 0)\n"
          ],
          "name": "stderr"
        },
        {
          "output_type": "stream",
          "text": [
            "INFO:tensorflow:*** Available Device: _DeviceAttributes(/job:worker/replica:0/task:0/device:TPU:6, TPU, 0, 0)\n"
          ],
          "name": "stdout"
        },
        {
          "output_type": "stream",
          "text": [
            "INFO:tensorflow:*** Available Device: _DeviceAttributes(/job:worker/replica:0/task:0/device:TPU:6, TPU, 0, 0)\n"
          ],
          "name": "stderr"
        },
        {
          "output_type": "stream",
          "text": [
            "INFO:tensorflow:*** Available Device: _DeviceAttributes(/job:worker/replica:0/task:0/device:TPU:7, TPU, 0, 0)\n"
          ],
          "name": "stdout"
        },
        {
          "output_type": "stream",
          "text": [
            "INFO:tensorflow:*** Available Device: _DeviceAttributes(/job:worker/replica:0/task:0/device:TPU:7, TPU, 0, 0)\n"
          ],
          "name": "stderr"
        },
        {
          "output_type": "stream",
          "text": [
            "INFO:tensorflow:*** Available Device: _DeviceAttributes(/job:worker/replica:0/task:0/device:TPU_SYSTEM:0, TPU_SYSTEM, 0, 0)\n"
          ],
          "name": "stdout"
        },
        {
          "output_type": "stream",
          "text": [
            "INFO:tensorflow:*** Available Device: _DeviceAttributes(/job:worker/replica:0/task:0/device:TPU_SYSTEM:0, TPU_SYSTEM, 0, 0)\n"
          ],
          "name": "stderr"
        },
        {
          "output_type": "stream",
          "text": [
            "INFO:tensorflow:*** Available Device: _DeviceAttributes(/job:worker/replica:0/task:0/device:XLA_CPU:0, XLA_CPU, 0, 0)\n"
          ],
          "name": "stdout"
        },
        {
          "output_type": "stream",
          "text": [
            "INFO:tensorflow:*** Available Device: _DeviceAttributes(/job:worker/replica:0/task:0/device:XLA_CPU:0, XLA_CPU, 0, 0)\n"
          ],
          "name": "stderr"
        },
        {
          "output_type": "stream",
          "text": [
            "Number of accelerators:  8\n"
          ],
          "name": "stdout"
        }
      ]
    },
    {
      "cell_type": "code",
      "metadata": {
        "id": "g7Lsa680aIYR"
      },
      "source": [
        "import matplotlib.pyplot as plt\n",
        "import resnet_cifar10\n",
        "import utils\n",
        "import time"
      ],
      "execution_count": 12,
      "outputs": []
    },
    {
      "cell_type": "markdown",
      "metadata": {
        "id": "WM0Ne_rs1OMZ"
      },
      "source": [
        "## Load Dataset and Prepare Data Loaders"
      ]
    },
    {
      "cell_type": "code",
      "metadata": {
        "colab": {
          "base_uri": "https://localhost:8080/"
        },
        "id": "vKLGpSfmbTEz",
        "outputId": "50aa98bb-d3de-4f63-8173-51177af6320b"
      },
      "source": [
        "(x_train, y_train), (x_test, y_test) = tf.keras.datasets.cifar10.load_data()\n",
        "print(f\"Training samples: {len(x_train)}\")\n",
        "print(f\"Testing samples: {len(x_test)}\")"
      ],
      "execution_count": 8,
      "outputs": [
        {
          "output_type": "stream",
          "text": [
            "Training samples: 50000\n",
            "Testing samples: 10000\n"
          ],
          "name": "stdout"
        }
      ]
    },
    {
      "cell_type": "code",
      "metadata": {
        "colab": {
          "base_uri": "https://localhost:8080/"
        },
        "id": "8SQ2_RLQa8w2",
        "outputId": "cc8bd428-0c99-40e3-a19e-698dd3a55984"
      },
      "source": [
        "BATCH_SIZE = 128 * strategy.num_replicas_in_sync\n",
        "print(f\"Batch size: {BATCH_SIZE}\")\n",
        "AUTO = tf.data.AUTOTUNE\n",
        "\n",
        "def scale(image, label):\n",
        "    image = tf.image.convert_image_dtype(image, tf.float32)\n",
        "    label = tf.cast(label, tf.int32)\n",
        "    return image, label\n",
        "\n",
        "def augment(image,label):\n",
        "    image = tf.image.resize_with_crop_or_pad(image, 40, 40) # Add 8 pixels of padding\n",
        "    image = tf.image.random_crop(image, size=[32, 32, 3]) # Random crop back to 32x32\n",
        "    image = tf.image.random_brightness(image, max_delta=0.5) # Random brightness\n",
        "    image = tf.clip_by_value(image, 0., 1.)\n",
        "\n",
        "    return image, label\n",
        "\n",
        "train_ds = tf.data.Dataset.from_tensor_slices((x_train, y_train))\n",
        "train_ds = (\n",
        "    train_ds\n",
        "    .shuffle(1024)\n",
        "    .map(scale, num_parallel_calls=AUTO)\n",
        "    .map(augment, num_parallel_calls=AUTO)\n",
        "    .batch(BATCH_SIZE)\n",
        "    .prefetch(AUTO)\n",
        ")\n",
        "\n",
        "test_ds = tf.data.Dataset.from_tensor_slices((x_test, y_test))\n",
        "test_ds = (\n",
        "    test_ds\n",
        "    .map(scale, num_parallel_calls=AUTO)\n",
        "    .batch(BATCH_SIZE)\n",
        "    .prefetch(AUTO)\n",
        ")"
      ],
      "execution_count": 9,
      "outputs": [
        {
          "output_type": "stream",
          "text": [
            "Batch size: 1024\n"
          ],
          "name": "stdout"
        }
      ]
    },
    {
      "cell_type": "markdown",
      "metadata": {
        "id": "MYkEOuIV1a3i"
      },
      "source": [
        "## Encapsulate SAM Logic "
      ]
    },
    {
      "cell_type": "markdown",
      "metadata": {
        "id": "Sd3MMHqG2zBL"
      },
      "source": [
        "SAM is implemented as follows - \n",
        "\n",
        "<center>\n",
        "<img src=\"https://i.ibb.co/qRSfNX7/image.png\"></img><br>\n",
        "<small>Source: Original Paper</small>\n",
        "</center>"
      ]
    },
    {
      "cell_type": "code",
      "metadata": {
        "id": "ENUFObDrbqlC"
      },
      "source": [
        "class SAMModel(tf.keras.Model):\n",
        "    def __init__(self, resnet_model, rho=0.05):\n",
        "        \"\"\"\n",
        "        p, q = 2 for optimal results as suggested in the paper\n",
        "        (Section 2)\n",
        "        \"\"\"\n",
        "        super(SAMModel, self).__init__()\n",
        "        self.resnet_model = resnet_model\n",
        "        self.rho = rho\n",
        "\n",
        "    def train_step(self, data):\n",
        "        (images, labels) = data\n",
        "        e_ws = []\n",
        "        with tf.GradientTape() as tape:\n",
        "            predictions = self.resnet_model(images)\n",
        "            loss = self.compiled_loss(labels, predictions)\n",
        "        trainable_params = self.resnet_model.trainable_variables\n",
        "        gradients = tape.gradient(loss, trainable_params)\n",
        "\n",
        "        with tf.GradientTape() as tape:\n",
        "            predictions = self.resnet_model(images)\n",
        "            loss = self.compiled_loss(labels, predictions)\n",
        "            norm = self._grad_norm(gradients)\n",
        "            scale = self.rho / (norm + 1e-12)\n",
        "            for (grad, param) in zip(gradients, trainable_params):\n",
        "                e_w = grad * scale\n",
        "                param.assign_add(e_w)\n",
        "                e_ws.append(e_w)\n",
        "        sam_gradients = tape.gradient(loss, trainable_params)\n",
        "        for (param, e_w) in zip(trainable_params, e_ws):\n",
        "            param.assign_sub(e_w)\n",
        "        \n",
        "        self.optimizer.apply_gradients(\n",
        "            zip(sam_gradients, trainable_params))\n",
        "\n",
        "        self.compiled_metrics.update_state(labels, predictions)\n",
        "        return {m.name: m.result() for m in self.metrics}\n",
        "\n",
        "    def test_step(self, data):\n",
        "        (images, labels) = data\n",
        "        predictions = self.resnet_model(images, training=False)\n",
        "        loss = self.compiled_loss(labels, predictions)\n",
        "        self.compiled_metrics.update_state(labels, predictions)\n",
        "        return {m.name: m.result() for m in self.metrics}\n",
        "\n",
        "    def _grad_norm(self, gradients):\n",
        "        norm = tf.norm(\n",
        "            tf.stack([\n",
        "                tf.norm(grad) for grad in gradients if grad is not None\n",
        "            ])\n",
        "        )\n",
        "        return norm"
      ],
      "execution_count": 74,
      "outputs": []
    },
    {
      "cell_type": "markdown",
      "metadata": {
        "id": "GdhtsEdU1523"
      },
      "source": [
        "## Define Callbacks"
      ]
    },
    {
      "cell_type": "code",
      "metadata": {
        "id": "nExIz3Wxe7Q-"
      },
      "source": [
        "train_callbacks = [\n",
        "    tf.keras.callbacks.EarlyStopping(\n",
        "        monitor=\"val_loss\", patience=10,\n",
        "        restore_best_weights=True\n",
        "    ),\n",
        "    tf.keras.callbacks.ReduceLROnPlateau(\n",
        "        monitor=\"val_loss\", factor=0.5,\n",
        "        patience=3, verbose=1\n",
        "    )\n",
        "]"
      ],
      "execution_count": 76,
      "outputs": []
    },
    {
      "cell_type": "markdown",
      "metadata": {
        "id": "FIhxFkRB18do"
      },
      "source": [
        "## Initialize Model with SAM and Train It"
      ]
    },
    {
      "cell_type": "code",
      "metadata": {
        "colab": {
          "base_uri": "https://localhost:8080/"
        },
        "id": "MZQxt8g-cArk",
        "outputId": "cb01abc7-3eb5-4e89-f0aa-e848850aeea9"
      },
      "source": [
        "with strategy.scope():\n",
        "    model = SAMModel(utils.get_training_model())\n",
        "\n",
        "model.compile(\n",
        "    optimizer=\"adam\", loss=\"sparse_categorical_crossentropy\", metrics=[\"accuracy\"]\n",
        ")\n",
        "\n",
        "print(f\"Total learnable parameters: {model.resnet_model.count_params()/1e6} M\")"
      ],
      "execution_count": 75,
      "outputs": [
        {
          "output_type": "stream",
          "text": [
            "Total learnable parameters: 0.575114 M\n"
          ],
          "name": "stdout"
        }
      ]
    },
    {
      "cell_type": "code",
      "metadata": {
        "colab": {
          "base_uri": "https://localhost:8080/"
        },
        "id": "ymRvGAazexFs",
        "outputId": "a0492016-a087-42d1-f20c-fc4906459c9b"
      },
      "source": [
        "start = time.time()\n",
        "history = model.fit(train_ds,\n",
        "                   validation_data=test_ds,\n",
        "                   callbacks=train_callbacks,\n",
        "                   epochs=EPOCHS)\n",
        "print(f\"Total training time: {(time.time() - start)/60.} minutes\")"
      ],
      "execution_count": 77,
      "outputs": [
        {
          "output_type": "stream",
          "text": [
            "Epoch 1/100\n",
            "49/49 [==============================] - 30s 241ms/step - loss: 3.6286 - accuracy: 0.1429 - val_loss: 1.9992 - val_accuracy: 0.2303\n",
            "Epoch 2/100\n",
            "49/49 [==============================] - 3s 54ms/step - loss: 2.0026 - accuracy: 0.2448 - val_loss: 1.8282 - val_accuracy: 0.3245\n",
            "Epoch 3/100\n",
            "49/49 [==============================] - 3s 54ms/step - loss: 1.8835 - accuracy: 0.2987 - val_loss: 1.7015 - val_accuracy: 0.3605\n",
            "Epoch 4/100\n",
            "49/49 [==============================] - 3s 54ms/step - loss: 1.7477 - accuracy: 0.3494 - val_loss: 1.5717 - val_accuracy: 0.4230\n",
            "Epoch 5/100\n",
            "49/49 [==============================] - 3s 54ms/step - loss: 1.6749 - accuracy: 0.3826 - val_loss: 1.5038 - val_accuracy: 0.4550\n",
            "Epoch 6/100\n",
            "49/49 [==============================] - 3s 54ms/step - loss: 1.5877 - accuracy: 0.4142 - val_loss: 1.4524 - val_accuracy: 0.4770\n",
            "Epoch 7/100\n",
            "49/49 [==============================] - 3s 54ms/step - loss: 1.5255 - accuracy: 0.4431 - val_loss: 1.4035 - val_accuracy: 0.4913\n",
            "Epoch 8/100\n",
            "49/49 [==============================] - 3s 53ms/step - loss: 1.4652 - accuracy: 0.4675 - val_loss: 1.3423 - val_accuracy: 0.5207\n",
            "Epoch 9/100\n",
            "49/49 [==============================] - 3s 54ms/step - loss: 1.4148 - accuracy: 0.4880 - val_loss: 1.3261 - val_accuracy: 0.5249\n",
            "Epoch 10/100\n",
            "49/49 [==============================] - 3s 54ms/step - loss: 1.3854 - accuracy: 0.5027 - val_loss: 1.3163 - val_accuracy: 0.5349\n",
            "Epoch 11/100\n",
            "49/49 [==============================] - 3s 54ms/step - loss: 1.3275 - accuracy: 0.5255 - val_loss: 1.2436 - val_accuracy: 0.5498\n",
            "Epoch 12/100\n",
            "49/49 [==============================] - 3s 53ms/step - loss: 1.2932 - accuracy: 0.5352 - val_loss: 1.2442 - val_accuracy: 0.5649\n",
            "Epoch 13/100\n",
            "49/49 [==============================] - 3s 54ms/step - loss: 1.2596 - accuracy: 0.5481 - val_loss: 1.1982 - val_accuracy: 0.5816\n",
            "Epoch 14/100\n",
            "49/49 [==============================] - 3s 53ms/step - loss: 1.2250 - accuracy: 0.5597 - val_loss: 1.1133 - val_accuracy: 0.6052\n",
            "Epoch 15/100\n",
            "49/49 [==============================] - 3s 54ms/step - loss: 1.1737 - accuracy: 0.5797 - val_loss: 1.0773 - val_accuracy: 0.6203\n",
            "Epoch 16/100\n",
            "49/49 [==============================] - 3s 55ms/step - loss: 1.1328 - accuracy: 0.5956 - val_loss: 1.0272 - val_accuracy: 0.6392\n",
            "Epoch 17/100\n",
            "49/49 [==============================] - 3s 54ms/step - loss: 1.1226 - accuracy: 0.6020 - val_loss: 1.0293 - val_accuracy: 0.6450\n",
            "Epoch 18/100\n",
            "49/49 [==============================] - 3s 54ms/step - loss: 1.0869 - accuracy: 0.6156 - val_loss: 0.9900 - val_accuracy: 0.6560\n",
            "Epoch 19/100\n",
            "49/49 [==============================] - 3s 68ms/step - loss: 1.0420 - accuracy: 0.6359 - val_loss: 0.9828 - val_accuracy: 0.6594\n",
            "Epoch 20/100\n",
            "49/49 [==============================] - 3s 54ms/step - loss: 1.0340 - accuracy: 0.6304 - val_loss: 0.9479 - val_accuracy: 0.6690\n",
            "Epoch 21/100\n",
            "49/49 [==============================] - 3s 55ms/step - loss: 0.9925 - accuracy: 0.6481 - val_loss: 0.9402 - val_accuracy: 0.6729\n",
            "Epoch 22/100\n",
            "49/49 [==============================] - 3s 54ms/step - loss: 0.9961 - accuracy: 0.6501 - val_loss: 0.9453 - val_accuracy: 0.6728\n",
            "Epoch 23/100\n",
            "49/49 [==============================] - 3s 55ms/step - loss: 0.9688 - accuracy: 0.6592 - val_loss: 0.8998 - val_accuracy: 0.6905\n",
            "Epoch 24/100\n",
            "49/49 [==============================] - 3s 54ms/step - loss: 0.9300 - accuracy: 0.6741 - val_loss: 0.9384 - val_accuracy: 0.6781\n",
            "Epoch 25/100\n",
            "49/49 [==============================] - 3s 55ms/step - loss: 0.9413 - accuracy: 0.6668 - val_loss: 0.9019 - val_accuracy: 0.6927\n",
            "Epoch 26/100\n",
            "49/49 [==============================] - 3s 54ms/step - loss: 0.9222 - accuracy: 0.6771 - val_loss: 0.9561 - val_accuracy: 0.6707\n",
            "\n",
            "Epoch 00026: ReduceLROnPlateau reducing learning rate to 0.0005000000237487257.\n",
            "Epoch 27/100\n",
            "49/49 [==============================] - 3s 54ms/step - loss: 0.8833 - accuracy: 0.6874 - val_loss: 0.8521 - val_accuracy: 0.7128\n",
            "Epoch 28/100\n",
            "49/49 [==============================] - 3s 54ms/step - loss: 0.8552 - accuracy: 0.7013 - val_loss: 0.8200 - val_accuracy: 0.7214\n",
            "Epoch 29/100\n",
            "49/49 [==============================] - 3s 54ms/step - loss: 0.8369 - accuracy: 0.7040 - val_loss: 0.8374 - val_accuracy: 0.7203\n",
            "Epoch 30/100\n",
            "49/49 [==============================] - 3s 53ms/step - loss: 0.8221 - accuracy: 0.7121 - val_loss: 0.8304 - val_accuracy: 0.7185\n",
            "Epoch 31/100\n",
            "49/49 [==============================] - 3s 68ms/step - loss: 0.8264 - accuracy: 0.7085 - val_loss: 0.8503 - val_accuracy: 0.7161\n",
            "\n",
            "Epoch 00031: ReduceLROnPlateau reducing learning rate to 0.0002500000118743628.\n",
            "Epoch 32/100\n",
            "49/49 [==============================] - 3s 54ms/step - loss: 0.8085 - accuracy: 0.7147 - val_loss: 0.7993 - val_accuracy: 0.7332\n",
            "Epoch 33/100\n",
            "49/49 [==============================] - 3s 54ms/step - loss: 0.7765 - accuracy: 0.7276 - val_loss: 0.7982 - val_accuracy: 0.7327\n",
            "Epoch 34/100\n",
            "49/49 [==============================] - 3s 54ms/step - loss: 0.7747 - accuracy: 0.7261 - val_loss: 0.7931 - val_accuracy: 0.7340\n",
            "Epoch 35/100\n",
            "49/49 [==============================] - 3s 54ms/step - loss: 0.7686 - accuracy: 0.7324 - val_loss: 0.7981 - val_accuracy: 0.7330\n",
            "Epoch 36/100\n",
            "49/49 [==============================] - 3s 54ms/step - loss: 0.7655 - accuracy: 0.7339 - val_loss: 0.8064 - val_accuracy: 0.7298\n",
            "Epoch 37/100\n",
            "49/49 [==============================] - 3s 54ms/step - loss: 0.7716 - accuracy: 0.7284 - val_loss: 0.7836 - val_accuracy: 0.7393\n",
            "Epoch 38/100\n",
            "49/49 [==============================] - 3s 54ms/step - loss: 0.7564 - accuracy: 0.7341 - val_loss: 0.7742 - val_accuracy: 0.7406\n",
            "Epoch 39/100\n",
            "49/49 [==============================] - 3s 55ms/step - loss: 0.7472 - accuracy: 0.7381 - val_loss: 0.7838 - val_accuracy: 0.7403\n",
            "Epoch 40/100\n",
            "49/49 [==============================] - 3s 55ms/step - loss: 0.7505 - accuracy: 0.7383 - val_loss: 0.7705 - val_accuracy: 0.7421\n",
            "Epoch 41/100\n",
            "49/49 [==============================] - 3s 53ms/step - loss: 0.7468 - accuracy: 0.7369 - val_loss: 0.7909 - val_accuracy: 0.7338\n",
            "Epoch 42/100\n",
            "49/49 [==============================] - 3s 54ms/step - loss: 0.7421 - accuracy: 0.7388 - val_loss: 0.7711 - val_accuracy: 0.7443\n",
            "Epoch 43/100\n",
            "49/49 [==============================] - 3s 55ms/step - loss: 0.7337 - accuracy: 0.7435 - val_loss: 0.7617 - val_accuracy: 0.7457\n",
            "Epoch 44/100\n",
            "49/49 [==============================] - 3s 56ms/step - loss: 0.7370 - accuracy: 0.7418 - val_loss: 0.7714 - val_accuracy: 0.7412\n",
            "Epoch 45/100\n",
            "49/49 [==============================] - 3s 56ms/step - loss: 0.7264 - accuracy: 0.7462 - val_loss: 0.7572 - val_accuracy: 0.7457\n",
            "Epoch 46/100\n",
            "49/49 [==============================] - 3s 55ms/step - loss: 0.7306 - accuracy: 0.7421 - val_loss: 0.7651 - val_accuracy: 0.7445\n",
            "Epoch 47/100\n",
            "49/49 [==============================] - 3s 55ms/step - loss: 0.7190 - accuracy: 0.7466 - val_loss: 0.7646 - val_accuracy: 0.7454\n",
            "Epoch 48/100\n",
            "49/49 [==============================] - 3s 54ms/step - loss: 0.7121 - accuracy: 0.7511 - val_loss: 0.7532 - val_accuracy: 0.7459\n",
            "Epoch 49/100\n",
            "49/49 [==============================] - 3s 55ms/step - loss: 0.7046 - accuracy: 0.7519 - val_loss: 0.7604 - val_accuracy: 0.7489\n",
            "Epoch 50/100\n",
            "49/49 [==============================] - 3s 54ms/step - loss: 0.7051 - accuracy: 0.7529 - val_loss: 0.7568 - val_accuracy: 0.7494\n",
            "Epoch 51/100\n",
            "49/49 [==============================] - 3s 54ms/step - loss: 0.7108 - accuracy: 0.7496 - val_loss: 0.7677 - val_accuracy: 0.7477\n",
            "\n",
            "Epoch 00051: ReduceLROnPlateau reducing learning rate to 0.0001250000059371814.\n",
            "Epoch 52/100\n",
            "49/49 [==============================] - 3s 54ms/step - loss: 0.6982 - accuracy: 0.7572 - val_loss: 0.7351 - val_accuracy: 0.7563\n",
            "Epoch 53/100\n",
            "49/49 [==============================] - 3s 54ms/step - loss: 0.6787 - accuracy: 0.7636 - val_loss: 0.7363 - val_accuracy: 0.7595\n",
            "Epoch 54/100\n",
            "49/49 [==============================] - 3s 55ms/step - loss: 0.6762 - accuracy: 0.7628 - val_loss: 0.7353 - val_accuracy: 0.7594\n",
            "Epoch 55/100\n",
            "49/49 [==============================] - 3s 53ms/step - loss: 0.6777 - accuracy: 0.7646 - val_loss: 0.7389 - val_accuracy: 0.7569\n",
            "\n",
            "Epoch 00055: ReduceLROnPlateau reducing learning rate to 6.25000029685907e-05.\n",
            "Epoch 56/100\n",
            "49/49 [==============================] - 3s 54ms/step - loss: 0.6715 - accuracy: 0.7663 - val_loss: 0.7298 - val_accuracy: 0.7596\n",
            "Epoch 57/100\n",
            "49/49 [==============================] - 3s 55ms/step - loss: 0.6662 - accuracy: 0.7674 - val_loss: 0.7297 - val_accuracy: 0.7596\n",
            "Epoch 58/100\n",
            "49/49 [==============================] - 3s 54ms/step - loss: 0.6616 - accuracy: 0.7700 - val_loss: 0.7263 - val_accuracy: 0.7610\n",
            "Epoch 59/100\n",
            "49/49 [==============================] - 3s 54ms/step - loss: 0.6622 - accuracy: 0.7662 - val_loss: 0.7245 - val_accuracy: 0.7622\n",
            "Epoch 60/100\n",
            "49/49 [==============================] - 3s 55ms/step - loss: 0.6585 - accuracy: 0.7710 - val_loss: 0.7237 - val_accuracy: 0.7620\n",
            "Epoch 61/100\n",
            "49/49 [==============================] - 3s 67ms/step - loss: 0.6593 - accuracy: 0.7709 - val_loss: 0.7232 - val_accuracy: 0.7627\n",
            "Epoch 62/100\n",
            "49/49 [==============================] - 3s 55ms/step - loss: 0.6585 - accuracy: 0.7698 - val_loss: 0.7202 - val_accuracy: 0.7647\n",
            "Epoch 63/100\n",
            "49/49 [==============================] - 3s 54ms/step - loss: 0.6523 - accuracy: 0.7726 - val_loss: 0.7242 - val_accuracy: 0.7640\n",
            "Epoch 64/100\n",
            "49/49 [==============================] - 3s 54ms/step - loss: 0.6548 - accuracy: 0.7709 - val_loss: 0.7204 - val_accuracy: 0.7638\n",
            "Epoch 65/100\n",
            "49/49 [==============================] - 3s 53ms/step - loss: 0.6556 - accuracy: 0.7703 - val_loss: 0.7215 - val_accuracy: 0.7643\n",
            "\n",
            "Epoch 00065: ReduceLROnPlateau reducing learning rate to 3.125000148429535e-05.\n",
            "Epoch 66/100\n",
            "49/49 [==============================] - 3s 54ms/step - loss: 0.6473 - accuracy: 0.7729 - val_loss: 0.7250 - val_accuracy: 0.7642\n",
            "Epoch 67/100\n",
            "49/49 [==============================] - 3s 54ms/step - loss: 0.6470 - accuracy: 0.7740 - val_loss: 0.7185 - val_accuracy: 0.7650\n",
            "Epoch 68/100\n",
            "49/49 [==============================] - 3s 54ms/step - loss: 0.6426 - accuracy: 0.7767 - val_loss: 0.7160 - val_accuracy: 0.7645\n",
            "Epoch 69/100\n",
            "49/49 [==============================] - 3s 53ms/step - loss: 0.6425 - accuracy: 0.7740 - val_loss: 0.7150 - val_accuracy: 0.7674\n",
            "Epoch 70/100\n",
            "49/49 [==============================] - 3s 54ms/step - loss: 0.6454 - accuracy: 0.7754 - val_loss: 0.7219 - val_accuracy: 0.7634\n",
            "Epoch 71/100\n",
            "49/49 [==============================] - 3s 54ms/step - loss: 0.6400 - accuracy: 0.7743 - val_loss: 0.7180 - val_accuracy: 0.7664\n",
            "Epoch 72/100\n",
            "49/49 [==============================] - 3s 54ms/step - loss: 0.6433 - accuracy: 0.7766 - val_loss: 0.7183 - val_accuracy: 0.7670\n",
            "\n",
            "Epoch 00072: ReduceLROnPlateau reducing learning rate to 1.5625000742147677e-05.\n",
            "Epoch 73/100\n",
            "49/49 [==============================] - 3s 55ms/step - loss: 0.6390 - accuracy: 0.7744 - val_loss: 0.7203 - val_accuracy: 0.7665\n",
            "Epoch 74/100\n",
            "49/49 [==============================] - 3s 55ms/step - loss: 0.6444 - accuracy: 0.7751 - val_loss: 0.7200 - val_accuracy: 0.7633\n",
            "Epoch 75/100\n",
            "49/49 [==============================] - 3s 54ms/step - loss: 0.6342 - accuracy: 0.7766 - val_loss: 0.7205 - val_accuracy: 0.7662\n",
            "\n",
            "Epoch 00075: ReduceLROnPlateau reducing learning rate to 7.812500371073838e-06.\n",
            "Epoch 76/100\n",
            "49/49 [==============================] - 3s 55ms/step - loss: 0.6394 - accuracy: 0.7776 - val_loss: 0.7144 - val_accuracy: 0.7664\n",
            "Epoch 77/100\n",
            "49/49 [==============================] - 3s 54ms/step - loss: 0.6396 - accuracy: 0.7780 - val_loss: 0.7173 - val_accuracy: 0.7657\n",
            "Epoch 78/100\n",
            "49/49 [==============================] - 3s 55ms/step - loss: 0.6332 - accuracy: 0.7769 - val_loss: 0.7170 - val_accuracy: 0.7660\n",
            "Epoch 79/100\n",
            "49/49 [==============================] - 3s 55ms/step - loss: 0.6326 - accuracy: 0.7797 - val_loss: 0.7166 - val_accuracy: 0.7659\n",
            "\n",
            "Epoch 00079: ReduceLROnPlateau reducing learning rate to 3.906250185536919e-06.\n",
            "Epoch 80/100\n",
            "49/49 [==============================] - 3s 56ms/step - loss: 0.6342 - accuracy: 0.7782 - val_loss: 0.7166 - val_accuracy: 0.7666\n",
            "Epoch 81/100\n",
            "49/49 [==============================] - 3s 55ms/step - loss: 0.6343 - accuracy: 0.7784 - val_loss: 0.7150 - val_accuracy: 0.7676\n",
            "Epoch 82/100\n",
            "49/49 [==============================] - 3s 57ms/step - loss: 0.6334 - accuracy: 0.7804 - val_loss: 0.7159 - val_accuracy: 0.7669\n",
            "\n",
            "Epoch 00082: ReduceLROnPlateau reducing learning rate to 1.9531250927684596e-06.\n",
            "Epoch 83/100\n",
            "49/49 [==============================] - 3s 57ms/step - loss: 0.6300 - accuracy: 0.7789 - val_loss: 0.7148 - val_accuracy: 0.7677\n",
            "Epoch 84/100\n",
            "49/49 [==============================] - 3s 55ms/step - loss: 0.6336 - accuracy: 0.7794 - val_loss: 0.7154 - val_accuracy: 0.7678\n",
            "Epoch 85/100\n",
            "49/49 [==============================] - 3s 55ms/step - loss: 0.6368 - accuracy: 0.7791 - val_loss: 0.7157 - val_accuracy: 0.7676\n",
            "\n",
            "Epoch 00085: ReduceLROnPlateau reducing learning rate to 9.765625463842298e-07.\n",
            "Epoch 86/100\n",
            "49/49 [==============================] - 3s 54ms/step - loss: 0.6364 - accuracy: 0.7761 - val_loss: 0.7154 - val_accuracy: 0.7676\n",
            "Total training time: 5.530305409431458 minutes\n"
          ],
          "name": "stdout"
        }
      ]
    },
    {
      "cell_type": "code",
      "metadata": {
        "colab": {
          "base_uri": "https://localhost:8080/",
          "height": 265
        },
        "id": "FTPzLMkNuhnF",
        "outputId": "d9a7b619-e068-4444-ba9b-8e30976811ff"
      },
      "source": [
        "utils.plot_history(history)"
      ],
      "execution_count": 78,
      "outputs": [
        {
          "output_type": "display_data",
          "data": {
            "image/png": "[encoded data removed]",
            "text/plain": [
              "<Figure size 432x288 with 1 Axes>"
            ]
          },
          "metadata": {
            "tags": [],
            "needs_background": "light"
          }
        }
      ]
    },
    {
      "cell_type": "markdown",
      "metadata": {
        "id": "52RjGwqr2gfs"
      },
      "source": [
        "## Train a Regular ResNet20 Model"
      ]
    },
    {
      "cell_type": "code",
      "metadata": {
        "colab": {
          "base_uri": "https://localhost:8080/"
        },
        "id": "eWH9wX5turnF",
        "outputId": "eaf62580-17c8-4940-cebc-c72cd7ef7692"
      },
      "source": [
        "with strategy.scope():\n",
        "    model = utils.get_training_model()\n",
        "\n",
        "model.compile(\n",
        "    optimizer=\"adam\", loss=\"sparse_categorical_crossentropy\", metrics=[\"accuracy\"]\n",
        ")\n",
        "\n",
        "start = time.time()\n",
        "history = model.fit(train_ds,\n",
        "                   validation_data=test_ds,\n",
        "                   callbacks=train_callbacks,\n",
        "                   epochs=200) # 200 eppochs since SAM takes two backprop steps for an update\n",
        "print(f\"Total training time: {(time.time() - start)/60.} minutes\")"
      ],
      "execution_count": 79,
      "outputs": [
        {
          "output_type": "stream",
          "text": [
            "Epoch 1/200\n",
            "49/49 [==============================] - 29s 237ms/step - loss: 2.0446 - accuracy: 0.2412 - val_loss: 2.5276 - val_accuracy: 0.1416\n",
            "Epoch 2/200\n",
            "49/49 [==============================] - 3s 64ms/step - loss: 1.6059 - accuracy: 0.4070 - val_loss: 2.7143 - val_accuracy: 0.1688\n",
            "Epoch 3/200\n",
            "49/49 [==============================] - 3s 58ms/step - loss: 1.4390 - accuracy: 0.4780 - val_loss: 2.8349 - val_accuracy: 0.2197\n",
            "Epoch 4/200\n",
            "49/49 [==============================] - 3s 57ms/step - loss: 1.3168 - accuracy: 0.5311 - val_loss: 3.3883 - val_accuracy: 0.2153\n",
            "\n",
            "Epoch 00004: ReduceLROnPlateau reducing learning rate to 0.0005000000237487257.\n",
            "Epoch 5/200\n",
            "49/49 [==============================] - 3s 58ms/step - loss: 1.2193 - accuracy: 0.5663 - val_loss: 2.3476 - val_accuracy: 0.2995\n",
            "Epoch 6/200\n",
            "49/49 [==============================] - 3s 58ms/step - loss: 1.1601 - accuracy: 0.5847 - val_loss: 1.7721 - val_accuracy: 0.4217\n",
            "Epoch 7/200\n",
            "49/49 [==============================] - 3s 57ms/step - loss: 1.1230 - accuracy: 0.6000 - val_loss: 1.4984 - val_accuracy: 0.4952\n",
            "Epoch 8/200\n",
            "49/49 [==============================] - 3s 57ms/step - loss: 1.0827 - accuracy: 0.6141 - val_loss: 1.1707 - val_accuracy: 0.5837\n",
            "Epoch 9/200\n",
            "49/49 [==============================] - 3s 56ms/step - loss: 1.0540 - accuracy: 0.6279 - val_loss: 1.2101 - val_accuracy: 0.5786\n",
            "Epoch 10/200\n",
            "49/49 [==============================] - 3s 57ms/step - loss: 1.0147 - accuracy: 0.6443 - val_loss: 1.1431 - val_accuracy: 0.6032\n",
            "Epoch 11/200\n",
            "49/49 [==============================] - 3s 57ms/step - loss: 0.9885 - accuracy: 0.6527 - val_loss: 1.0164 - val_accuracy: 0.6434\n",
            "Epoch 12/200\n",
            "49/49 [==============================] - 3s 57ms/step - loss: 0.9501 - accuracy: 0.6651 - val_loss: 1.0417 - val_accuracy: 0.6320\n",
            "Epoch 13/200\n",
            "49/49 [==============================] - 3s 71ms/step - loss: 0.9318 - accuracy: 0.6723 - val_loss: 0.9503 - val_accuracy: 0.6742\n",
            "Epoch 14/200\n",
            "49/49 [==============================] - 3s 57ms/step - loss: 0.9106 - accuracy: 0.6821 - val_loss: 0.9957 - val_accuracy: 0.6493\n",
            "Epoch 15/200\n",
            "49/49 [==============================] - 3s 58ms/step - loss: 0.8897 - accuracy: 0.6872 - val_loss: 0.9744 - val_accuracy: 0.6648\n",
            "Epoch 16/200\n",
            "49/49 [==============================] - 3s 57ms/step - loss: 0.8576 - accuracy: 0.6998 - val_loss: 0.8899 - val_accuracy: 0.6929\n",
            "Epoch 17/200\n",
            "49/49 [==============================] - 3s 58ms/step - loss: 0.8381 - accuracy: 0.7062 - val_loss: 0.8421 - val_accuracy: 0.7083\n",
            "Epoch 18/200\n",
            "49/49 [==============================] - 3s 57ms/step - loss: 0.8245 - accuracy: 0.7127 - val_loss: 0.8125 - val_accuracy: 0.7186\n",
            "Epoch 19/200\n",
            "49/49 [==============================] - 3s 57ms/step - loss: 0.8017 - accuracy: 0.7173 - val_loss: 0.7949 - val_accuracy: 0.7237\n",
            "Epoch 20/200\n",
            "49/49 [==============================] - 3s 57ms/step - loss: 0.7821 - accuracy: 0.7278 - val_loss: 0.9188 - val_accuracy: 0.6862\n",
            "Epoch 21/200\n",
            "49/49 [==============================] - 3s 58ms/step - loss: 0.7674 - accuracy: 0.7316 - val_loss: 0.8420 - val_accuracy: 0.7163\n",
            "Epoch 22/200\n",
            "49/49 [==============================] - 3s 57ms/step - loss: 0.7436 - accuracy: 0.7417 - val_loss: 0.7417 - val_accuracy: 0.7448\n",
            "Epoch 23/200\n",
            "49/49 [==============================] - 3s 71ms/step - loss: 0.7230 - accuracy: 0.7503 - val_loss: 0.7455 - val_accuracy: 0.7396\n",
            "Epoch 24/200\n",
            "49/49 [==============================] - 3s 58ms/step - loss: 0.7142 - accuracy: 0.7502 - val_loss: 0.8458 - val_accuracy: 0.7171\n",
            "Epoch 25/200\n",
            "49/49 [==============================] - 3s 58ms/step - loss: 0.7054 - accuracy: 0.7527 - val_loss: 0.7756 - val_accuracy: 0.7371\n",
            "\n",
            "Epoch 00025: ReduceLROnPlateau reducing learning rate to 0.0002500000118743628.\n",
            "Epoch 26/200\n",
            "49/49 [==============================] - 3s 58ms/step - loss: 0.6732 - accuracy: 0.7662 - val_loss: 0.6644 - val_accuracy: 0.7714\n",
            "Epoch 27/200\n",
            "49/49 [==============================] - 3s 57ms/step - loss: 0.6515 - accuracy: 0.7720 - val_loss: 0.6865 - val_accuracy: 0.7611\n",
            "Epoch 28/200\n",
            "49/49 [==============================] - 3s 57ms/step - loss: 0.6460 - accuracy: 0.7761 - val_loss: 0.6662 - val_accuracy: 0.7703\n",
            "Epoch 29/200\n",
            "49/49 [==============================] - 3s 57ms/step - loss: 0.6443 - accuracy: 0.7745 - val_loss: 0.7454 - val_accuracy: 0.7495\n",
            "\n",
            "Epoch 00029: ReduceLROnPlateau reducing learning rate to 0.0001250000059371814.\n",
            "Epoch 30/200\n",
            "49/49 [==============================] - 3s 58ms/step - loss: 0.6328 - accuracy: 0.7789 - val_loss: 0.6496 - val_accuracy: 0.7751\n",
            "Epoch 31/200\n",
            "49/49 [==============================] - 3s 58ms/step - loss: 0.6201 - accuracy: 0.7825 - val_loss: 0.6389 - val_accuracy: 0.7769\n",
            "Epoch 32/200\n",
            "49/49 [==============================] - 3s 57ms/step - loss: 0.6131 - accuracy: 0.7865 - val_loss: 0.6477 - val_accuracy: 0.7753\n",
            "Epoch 33/200\n",
            "49/49 [==============================] - 3s 71ms/step - loss: 0.6110 - accuracy: 0.7900 - val_loss: 0.6505 - val_accuracy: 0.7725\n",
            "Epoch 34/200\n",
            "49/49 [==============================] - 3s 59ms/step - loss: 0.6134 - accuracy: 0.7871 - val_loss: 0.6436 - val_accuracy: 0.7782\n",
            "\n",
            "Epoch 00034: ReduceLROnPlateau reducing learning rate to 6.25000029685907e-05.\n",
            "Epoch 35/200\n",
            "49/49 [==============================] - 3s 57ms/step - loss: 0.6045 - accuracy: 0.7933 - val_loss: 0.6243 - val_accuracy: 0.7848\n",
            "Epoch 36/200\n",
            "49/49 [==============================] - 3s 58ms/step - loss: 0.5985 - accuracy: 0.7945 - val_loss: 0.6349 - val_accuracy: 0.7828\n",
            "Epoch 37/200\n",
            "49/49 [==============================] - 3s 59ms/step - loss: 0.5890 - accuracy: 0.7967 - val_loss: 0.6310 - val_accuracy: 0.7847\n",
            "Epoch 38/200\n",
            "49/49 [==============================] - 3s 60ms/step - loss: 0.5907 - accuracy: 0.7958 - val_loss: 0.6203 - val_accuracy: 0.7879\n",
            "Epoch 39/200\n",
            "49/49 [==============================] - 3s 58ms/step - loss: 0.5934 - accuracy: 0.7935 - val_loss: 0.6223 - val_accuracy: 0.7857\n",
            "Epoch 40/200\n",
            "49/49 [==============================] - 3s 58ms/step - loss: 0.5880 - accuracy: 0.7954 - val_loss: 0.6204 - val_accuracy: 0.7878\n",
            "Epoch 41/200\n",
            "49/49 [==============================] - 3s 58ms/step - loss: 0.5901 - accuracy: 0.7962 - val_loss: 0.6200 - val_accuracy: 0.7875\n",
            "Epoch 42/200\n",
            "49/49 [==============================] - 3s 58ms/step - loss: 0.5926 - accuracy: 0.7928 - val_loss: 0.6204 - val_accuracy: 0.7879\n",
            "Epoch 43/200\n",
            "49/49 [==============================] - 4s 73ms/step - loss: 0.5865 - accuracy: 0.7966 - val_loss: 0.6198 - val_accuracy: 0.7871\n",
            "Epoch 44/200\n",
            "49/49 [==============================] - 3s 59ms/step - loss: 0.5839 - accuracy: 0.7989 - val_loss: 0.6171 - val_accuracy: 0.7895\n",
            "Epoch 45/200\n",
            "49/49 [==============================] - 3s 58ms/step - loss: 0.5825 - accuracy: 0.7986 - val_loss: 0.6211 - val_accuracy: 0.7865\n",
            "Epoch 46/200\n",
            "49/49 [==============================] - 3s 59ms/step - loss: 0.5791 - accuracy: 0.8009 - val_loss: 0.6261 - val_accuracy: 0.7862\n",
            "Epoch 47/200\n",
            "49/49 [==============================] - 3s 59ms/step - loss: 0.5761 - accuracy: 0.7977 - val_loss: 0.6194 - val_accuracy: 0.7878\n",
            "\n",
            "Epoch 00047: ReduceLROnPlateau reducing learning rate to 3.125000148429535e-05.\n",
            "Epoch 48/200\n",
            "49/49 [==============================] - 3s 62ms/step - loss: 0.5776 - accuracy: 0.7980 - val_loss: 0.6111 - val_accuracy: 0.7917\n",
            "Epoch 49/200\n",
            "49/49 [==============================] - 3s 61ms/step - loss: 0.5699 - accuracy: 0.8011 - val_loss: 0.6145 - val_accuracy: 0.7902\n",
            "Epoch 50/200\n",
            "49/49 [==============================] - 3s 60ms/step - loss: 0.5757 - accuracy: 0.7994 - val_loss: 0.6111 - val_accuracy: 0.7910\n",
            "Epoch 51/200\n",
            "49/49 [==============================] - 3s 58ms/step - loss: 0.5693 - accuracy: 0.8033 - val_loss: 0.6125 - val_accuracy: 0.7903\n",
            "\n",
            "Epoch 00051: ReduceLROnPlateau reducing learning rate to 1.5625000742147677e-05.\n",
            "Epoch 52/200\n",
            "49/49 [==============================] - 3s 71ms/step - loss: 0.5681 - accuracy: 0.8025 - val_loss: 0.6090 - val_accuracy: 0.7919\n",
            "Epoch 53/200\n",
            "49/49 [==============================] - 3s 58ms/step - loss: 0.5695 - accuracy: 0.8030 - val_loss: 0.6079 - val_accuracy: 0.7930\n",
            "Epoch 54/200\n",
            "49/49 [==============================] - 3s 57ms/step - loss: 0.5672 - accuracy: 0.8035 - val_loss: 0.6085 - val_accuracy: 0.7908\n",
            "Epoch 55/200\n",
            "49/49 [==============================] - 3s 57ms/step - loss: 0.5703 - accuracy: 0.8035 - val_loss: 0.6066 - val_accuracy: 0.7923\n",
            "Epoch 56/200\n",
            "49/49 [==============================] - 3s 57ms/step - loss: 0.5657 - accuracy: 0.8073 - val_loss: 0.6086 - val_accuracy: 0.7924\n",
            "Epoch 57/200\n",
            "49/49 [==============================] - 3s 58ms/step - loss: 0.5696 - accuracy: 0.8042 - val_loss: 0.6079 - val_accuracy: 0.7919\n",
            "Epoch 58/200\n",
            "49/49 [==============================] - 3s 57ms/step - loss: 0.5665 - accuracy: 0.8037 - val_loss: 0.6059 - val_accuracy: 0.7925\n",
            "Epoch 59/200\n",
            "49/49 [==============================] - 3s 57ms/step - loss: 0.5606 - accuracy: 0.8061 - val_loss: 0.6046 - val_accuracy: 0.7943\n",
            "Epoch 60/200\n",
            "49/49 [==============================] - 3s 57ms/step - loss: 0.5617 - accuracy: 0.8038 - val_loss: 0.6056 - val_accuracy: 0.7939\n",
            "Epoch 61/200\n",
            "49/49 [==============================] - 3s 57ms/step - loss: 0.5660 - accuracy: 0.8044 - val_loss: 0.6057 - val_accuracy: 0.7935\n",
            "Epoch 62/200\n",
            "49/49 [==============================] - 3s 57ms/step - loss: 0.5615 - accuracy: 0.8042 - val_loss: 0.6053 - val_accuracy: 0.7938\n",
            "\n",
            "Epoch 00062: ReduceLROnPlateau reducing learning rate to 7.812500371073838e-06.\n",
            "Epoch 63/200\n",
            "49/49 [==============================] - 3s 58ms/step - loss: 0.5657 - accuracy: 0.8031 - val_loss: 0.6059 - val_accuracy: 0.7932\n",
            "Epoch 64/200\n",
            "49/49 [==============================] - 3s 57ms/step - loss: 0.5664 - accuracy: 0.8041 - val_loss: 0.6062 - val_accuracy: 0.7940\n",
            "Epoch 65/200\n",
            "49/49 [==============================] - 3s 58ms/step - loss: 0.5620 - accuracy: 0.8057 - val_loss: 0.6066 - val_accuracy: 0.7934\n",
            "\n",
            "Epoch 00065: ReduceLROnPlateau reducing learning rate to 3.906250185536919e-06.\n",
            "Epoch 66/200\n",
            "49/49 [==============================] - 3s 58ms/step - loss: 0.5620 - accuracy: 0.8071 - val_loss: 0.6057 - val_accuracy: 0.7939\n",
            "Epoch 67/200\n",
            "49/49 [==============================] - 3s 58ms/step - loss: 0.5573 - accuracy: 0.8075 - val_loss: 0.6051 - val_accuracy: 0.7936\n",
            "Epoch 68/200\n",
            "49/49 [==============================] - 3s 57ms/step - loss: 0.5638 - accuracy: 0.8056 - val_loss: 0.6049 - val_accuracy: 0.7932\n",
            "\n",
            "Epoch 00068: ReduceLROnPlateau reducing learning rate to 1.9531250927684596e-06.\n",
            "Epoch 69/200\n",
            "49/49 [==============================] - 3s 57ms/step - loss: 0.5619 - accuracy: 0.8056 - val_loss: 0.6053 - val_accuracy: 0.7934\n",
            "Total training time: 4.6521714170773825 minutes\n"
          ],
          "name": "stdout"
        }
      ]
    },
    {
      "cell_type": "code",
      "metadata": {
        "colab": {
          "base_uri": "https://localhost:8080/",
          "height": 266
        },
        "id": "RPOP52xtxWKi",
        "outputId": "182902e9-3ac5-471a-a68d-248c912c4c5d"
      },
      "source": [
        "utils.plot_history(history)"
      ],
      "execution_count": 80,
      "outputs": [
        {
          "output_type": "display_data",
          "data": {
            "image/png": "[encoded data removed]",
            "text/plain": [
              "<Figure size 432x288 with 1 Axes>"
            ]
          },
          "metadata": {
            "tags": [],
            "needs_background": "light"
          }
        }
      ]
    }
  ]
}